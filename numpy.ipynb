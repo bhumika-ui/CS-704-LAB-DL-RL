{
  "nbformat": 4,
  "nbformat_minor": 0,
  "metadata": {
    "colab": {
      "provenance": []
    },
    "kernelspec": {
      "name": "python3",
      "display_name": "Python 3"
    },
    "language_info": {
      "name": "python"
    }
  },
  "cells": [
    {
      "cell_type": "code",
      "execution_count": null,
      "metadata": {
        "colab": {
          "base_uri": "https://localhost:8080/"
        },
        "id": "B4wYAFu86XZ7",
        "outputId": "7abcd06a-d5f8-4fe6-c786-94860c203f21"
      },
      "outputs": [
        {
          "output_type": "stream",
          "name": "stdout",
          "text": [
            "1D Array: [1 2 3 4 5]\n"
          ]
        }
      ],
      "source": [
        "import numpy as np\n",
        "#Basic Array Creation\n",
        "#create a 1Darray\n",
        "array_1d=np.array([1,2,3,4,5])\n",
        "print(\"1D Array:\",array_1d)"
      ]
    },
    {
      "cell_type": "code",
      "source": [
        "#create a 2Darray\n",
        "array_2D=np.array([[1,2,3],[4,5,6]])\n",
        "print(\"2D Array:\\n\",array_2D)"
      ],
      "metadata": {
        "colab": {
          "base_uri": "https://localhost:8080/"
        },
        "id": "2oG6Q7Uq7Ljq",
        "outputId": "74bcfbbf-cf25-4d65-db6e-87b5d02663f6"
      },
      "execution_count": null,
      "outputs": [
        {
          "output_type": "stream",
          "name": "stdout",
          "text": [
            "2D Array:\n",
            " [[1 2 3]\n",
            " [4 5 6]]\n"
          ]
        }
      ]
    },
    {
      "cell_type": "code",
      "source": [
        "#create an array with zeros\n",
        "zeros_array=np.zeros((3,3))\n",
        "print(\"Zeros Array:\\n\",zeros_array)"
      ],
      "metadata": {
        "colab": {
          "base_uri": "https://localhost:8080/"
        },
        "id": "upVuh5xZ71ni",
        "outputId": "14f2ab64-a049-4f5d-faff-ccb180460624"
      },
      "execution_count": null,
      "outputs": [
        {
          "output_type": "stream",
          "name": "stdout",
          "text": [
            "Zeros Array:\n",
            " [[0. 0. 0.]\n",
            " [0. 0. 0.]\n",
            " [0. 0. 0.]]\n"
          ]
        }
      ]
    },
    {
      "cell_type": "code",
      "source": [
        "#create an array with ones\n",
        "ones_array=np.ones((2,2))\n",
        "print(\"Ones Array:\\n\",ones_array)"
      ],
      "metadata": {
        "colab": {
          "base_uri": "https://localhost:8080/"
        },
        "id": "5t2sMk2_86qr",
        "outputId": "1fa2d8af-4782-4c9e-87a9-ac7fe112690d"
      },
      "execution_count": null,
      "outputs": [
        {
          "output_type": "stream",
          "name": "stdout",
          "text": [
            "Ones Array:\n",
            " [[1. 1.]\n",
            " [1. 1.]]\n"
          ]
        }
      ]
    },
    {
      "cell_type": "code",
      "source": [
        "#Array Operations\n",
        "import numpy as np\n",
        "#create two arrays\n",
        "a=np.array([1,2,3])\n",
        "b=np.array([4,5,6])"
      ],
      "metadata": {
        "id": "vRArjeFu9hHJ"
      },
      "execution_count": null,
      "outputs": []
    },
    {
      "cell_type": "code",
      "source": [
        "#Addition\n",
        "sum_array=np.add(a,b)\n",
        "print(\"Sum:\",sum_array)"
      ],
      "metadata": {
        "colab": {
          "base_uri": "https://localhost:8080/"
        },
        "id": "GFw9Axcd-tt6",
        "outputId": "04268d9e-20f5-4027-8c63-d56c50b1b839"
      },
      "execution_count": null,
      "outputs": [
        {
          "output_type": "stream",
          "name": "stdout",
          "text": [
            "Sum: [5 7 9]\n"
          ]
        }
      ]
    },
    {
      "cell_type": "code",
      "source": [
        "#Subtraction\n",
        "diff_array=np.subtract(a,b)\n",
        "print(\"Difference:\",diff_array)"
      ],
      "metadata": {
        "colab": {
          "base_uri": "https://localhost:8080/"
        },
        "id": "YfdHWJtG_KoK",
        "outputId": "2322d603-64ac-4e87-cf63-874b1e87a236"
      },
      "execution_count": null,
      "outputs": [
        {
          "output_type": "stream",
          "name": "stdout",
          "text": [
            "Difference: [-3 -3 -3]\n"
          ]
        }
      ]
    },
    {
      "cell_type": "code",
      "source": [
        "#Multiplication\n",
        "product_array=np.multiply(a,b)\n",
        "print(\"Product:\",product_array)"
      ],
      "metadata": {
        "colab": {
          "base_uri": "https://localhost:8080/"
        },
        "id": "31u2X5c1BK4c",
        "outputId": "fc58e510-7d6e-4f29-8992-062ae7a39127"
      },
      "execution_count": null,
      "outputs": [
        {
          "output_type": "stream",
          "name": "stdout",
          "text": [
            "Product: [ 4 10 18]\n"
          ]
        }
      ]
    },
    {
      "cell_type": "code",
      "source": [
        "#Division\n",
        "quotient_array=np.divide(a,b)\n",
        "print(\"Quotient:\",quotient_array)"
      ],
      "metadata": {
        "colab": {
          "base_uri": "https://localhost:8080/"
        },
        "id": "AU0Ek6FjCIph",
        "outputId": "33ec48f4-f22c-4d0d-e63c-a5792ed06db1"
      },
      "execution_count": null,
      "outputs": [
        {
          "output_type": "stream",
          "name": "stdout",
          "text": [
            "Quotient: [0.25 0.4  0.5 ]\n"
          ]
        }
      ]
    },
    {
      "cell_type": "code",
      "source": [
        "#Matrix Multiplication\n",
        "#create two matrix\n",
        "matrix_a=np.array([[1,2],[3,4]])\n",
        "matrix_b=np.array([[5,6],[7,8]])\n"
      ],
      "metadata": {
        "id": "Rw2ePlbUCj2b"
      },
      "execution_count": null,
      "outputs": []
    },
    {
      "cell_type": "code",
      "source": [
        "#matrix multiplication\n",
        "matrix_product=np.dot(matrix_a,matrix_b)\n",
        "print(\"Matrix Product:\\n\",matrix_product)"
      ],
      "metadata": {
        "colab": {
          "base_uri": "https://localhost:8080/"
        },
        "id": "Wed2P4RMDNJj",
        "outputId": "eebee328-2bf8-42d4-c432-ae33a66648bc"
      },
      "execution_count": null,
      "outputs": [
        {
          "output_type": "stream",
          "name": "stdout",
          "text": [
            "Matrix Product:\n",
            " [[19 22]\n",
            " [43 50]]\n"
          ]
        }
      ]
    },
    {
      "cell_type": "code",
      "source": [
        "#Broadcasting\n",
        "#create an array and a scalar\n",
        "array=np.array([1,2,3])\n",
        "scalar=2\n",
        "\n",
        "#broadcasting\n",
        "broadcasted_array=array*scalar\n",
        "print(\"Broadcasted Array:\",broadcasted_array)"
      ],
      "metadata": {
        "colab": {
          "base_uri": "https://localhost:8080/"
        },
        "id": "-pqW8A4aDwQa",
        "outputId": "e410d637-a0b3-46c3-a46e-a32d81ee0cbd"
      },
      "execution_count": null,
      "outputs": [
        {
          "output_type": "stream",
          "name": "stdout",
          "text": [
            "Broadcasted Array: [2 4 6]\n"
          ]
        }
      ]
    },
    {
      "cell_type": "code",
      "source": [
        "#Stastiscal Operations\n",
        "#create an array\n",
        "data=np.array([1,2,3,4,5])\n",
        "\n",
        "#Mean\n",
        "mean_value=np.mean(data)\n",
        "print(\"Mean:\",mean_value)"
      ],
      "metadata": {
        "colab": {
          "base_uri": "https://localhost:8080/"
        },
        "id": "xdx7BrmNFu4r",
        "outputId": "fc75e853-1bfe-433f-fc14-86f23458a0bd"
      },
      "execution_count": null,
      "outputs": [
        {
          "output_type": "stream",
          "name": "stdout",
          "text": [
            "Mean: 3.0\n"
          ]
        }
      ]
    },
    {
      "cell_type": "code",
      "source": [
        "#Standard deviation\n",
        "std_value=np.std(data)\n",
        "print(\"Standard Deviation:\",std_value)"
      ],
      "metadata": {
        "colab": {
          "base_uri": "https://localhost:8080/"
        },
        "id": "GOlBQ6CVG4B6",
        "outputId": "9ee21573-ba48-46bc-c826-e677864c9d1e"
      },
      "execution_count": null,
      "outputs": [
        {
          "output_type": "stream",
          "name": "stdout",
          "text": [
            "Standard Deviation: 1.4142135623730951\n"
          ]
        }
      ]
    },
    {
      "cell_type": "code",
      "source": [
        "#Sum\n",
        "sum_value=np.sum(data)\n",
        "print(\"Sum:\",sum_value)"
      ],
      "metadata": {
        "colab": {
          "base_uri": "https://localhost:8080/"
        },
        "id": "89BefcVRHOv5",
        "outputId": "6c523242-9c08-478f-ed43-adc736b50a1a"
      },
      "execution_count": null,
      "outputs": [
        {
          "output_type": "stream",
          "name": "stdout",
          "text": [
            "Sum: 15\n"
          ]
        }
      ]
    },
    {
      "cell_type": "code",
      "source": [
        "#Reshaping Array\n",
        "#create a 1D array\n",
        "array=np.array([1,2,3,4,5,6])\n",
        "\n",
        "#Reshape to 2*3\n",
        "reshaped_array=array.reshape([2,3])\n",
        "print(\"Reshaped Array:\\n\",reshaped_array)\n",
        "\n",
        "#Reshape to 3*2\n",
        "reshaped_array=array.reshape([3,2])\n",
        "print(\"Reshaped Array:\\n\",reshaped_array)"
      ],
      "metadata": {
        "colab": {
          "base_uri": "https://localhost:8080/"
        },
        "id": "Zfp7xSlzHkXC",
        "outputId": "5e740f1a-a2d2-49c2-83d1-23f2dbc14d96"
      },
      "execution_count": null,
      "outputs": [
        {
          "output_type": "stream",
          "name": "stdout",
          "text": [
            "Reshaped Array:\n",
            " [[1 2 3]\n",
            " [4 5 6]]\n",
            "Reshaped Array:\n",
            " [[1 2]\n",
            " [3 4]\n",
            " [5 6]]\n"
          ]
        }
      ]
    },
    {
      "cell_type": "code",
      "source": [
        "#Element-wise Operations\n",
        "import numpy as np\n",
        "#create two arrays\n",
        "array_a=np.array([1,2,3])\n",
        "array_b=np.array([4,5,6])\n",
        "\n",
        "#Element-wise Operations\n",
        "add_result=array_a+array_b\n",
        "print(\"Element-wise Addition:\",add_result)\n",
        "\n",
        "#Element-wise multiplication\n",
        "multiply_result=array_a*array_b\n",
        "print(\"Element-wise Multiplication:\",multiply_result)\n"
      ],
      "metadata": {
        "colab": {
          "base_uri": "https://localhost:8080/"
        },
        "id": "rspXg6aeJFlj",
        "outputId": "f7d08a61-049d-4577-a990-5dae2d9e0c04"
      },
      "execution_count": null,
      "outputs": [
        {
          "output_type": "stream",
          "name": "stdout",
          "text": [
            "Element-wise Addition: [5 7 9]\n",
            "Element-wise Multiplication: [ 4 10 18]\n"
          ]
        }
      ]
    },
    {
      "cell_type": "code",
      "source": [
        "#Slicing and Indexing\n",
        "\n",
        "#create a 2D array\n",
        "array_2D=np.array([[1,2,3],[4,5,6],[7,8,9]])\n",
        "\n",
        "#Accessing an element\n",
        "element=array_2D[1,1]\n",
        "print(\"Element at [1,1]:\",element)\n",
        "\n",
        "#Accesing a row\n",
        "row=array_2D[1,:]\n",
        "print(\"Row [1,:]:\",row)\n",
        "\n",
        "#Accessing a column\n",
        "column=array_2D[:,1]\n",
        "print(\"Column [:,1]:\",column)\n",
        "\n"
      ],
      "metadata": {
        "colab": {
          "base_uri": "https://localhost:8080/"
        },
        "id": "5fgKDzb9k2Pw",
        "outputId": "0ac45d2e-1730-484f-eb07-52df3e6d774e"
      },
      "execution_count": null,
      "outputs": [
        {
          "output_type": "stream",
          "name": "stdout",
          "text": [
            "Element at [1,1]: 5\n",
            "Row [1,:]: [4 5 6]\n",
            "Column [:,1]: [2 5 8]\n"
          ]
        }
      ]
    },
    {
      "cell_type": "code",
      "source": [
        "#Creating Random Arrays\n",
        "\n",
        "#create a random array\n",
        "random_array=np.random.rand(3,3)\n",
        "print(\"Random Integer Array:\\n\",random_array)\n",
        "\n",
        "#create a random integer array\n",
        "random_int_array=np.random.randint(0,10,(3,3))\n",
        "print(\"Random Integer Array:\\n\",random_int_array)"
      ],
      "metadata": {
        "colab": {
          "base_uri": "https://localhost:8080/"
        },
        "id": "4bRaSIG4oY_Y",
        "outputId": "6b39b1b8-d1fc-470c-ba4c-a30de7580397"
      },
      "execution_count": null,
      "outputs": [
        {
          "output_type": "stream",
          "name": "stdout",
          "text": [
            "Random Integer Array:\n",
            " [[9.57489516e-01 9.47730206e-01 5.82093221e-01]\n",
            " [3.22169229e-04 7.78878594e-01 1.89765656e-02]\n",
            " [5.12366997e-01 9.35190341e-02 9.20785068e-01]]\n",
            "Random Integer Array:\n",
            " [[0 0 4]\n",
            " [9 5 9]\n",
            " [5 5 6]]\n"
          ]
        }
      ]
    },
    {
      "cell_type": "code",
      "source": [
        "#Stacking and Concatenating Arrays\n",
        "\n",
        "#create two arrays\n",
        "array_a=np.array([1,2,3])\n",
        "array_b=np.array([4,5,6])\n",
        "\n",
        "#Vertical stack\n",
        "v_stack=np.vstack([array_a,array_b])\n",
        "print(\"Vertical Stack:\",v_stack)\n",
        "\n",
        "#Horizontal stack\n",
        "h_stack=np.hstack([array_a,array_b])\n",
        "print(\"Horizontal Stack:\",h_stack)"
      ],
      "metadata": {
        "colab": {
          "base_uri": "https://localhost:8080/"
        },
        "id": "wnj5usrrqGS9",
        "outputId": "f47e2166-ded9-4c41-aef1-91ec3b721cfe"
      },
      "execution_count": null,
      "outputs": [
        {
          "output_type": "stream",
          "name": "stdout",
          "text": [
            "Vertical Stack: [[1 2 3]\n",
            " [4 5 6]]\n",
            "Horizontal Stack: [1 2 3 4 5 6]\n"
          ]
        }
      ]
    },
    {
      "cell_type": "code",
      "source": [
        "#NUMPY PRACTISE ASSIGNMENT\n",
        "\n",
        "#BASIC ARRAY CREATION\n",
        "\n",
        "#create an array with 10 equally spaced no. b/w 0&1\n",
        "array=np.linspace(0,1,10)\n",
        "print(array)\n",
        "\n",
        "#crate a 1D array with 20 random integers b/w 1 and 100\n",
        "array_int_random=np.random.randint(1,100,20)\n",
        "print(\"Random Integer Array:\",array_int_random)\n",
        "\n",
        "#create a 2D array with the shape (4,4)filled with the value 7\n",
        "array=np.full((4,4),7)\n",
        "print(array)\n",
        "\n",
        "#create a 1D array of 10 elements with the same value,3.14\n",
        "array=np.full(10,3.14)\n",
        "print(array)\n",
        "\n",
        "#create a 2D array with the shape (3,3) with values ranging from 1-9\n",
        "array=np.arange(1,10).reshape(3,3)\n",
        "print(array)"
      ],
      "metadata": {
        "colab": {
          "base_uri": "https://localhost:8080/"
        },
        "id": "SAVU-yXHtHFA",
        "outputId": "e1a496b6-a557-47e7-ea21-8125193f18c8"
      },
      "execution_count": null,
      "outputs": [
        {
          "output_type": "stream",
          "name": "stdout",
          "text": [
            "[0.         0.11111111 0.22222222 0.33333333 0.44444444 0.55555556\n",
            " 0.66666667 0.77777778 0.88888889 1.        ]\n",
            "Random Integer Array: [49 66 66 56 86 60 69 91 83 79 96 54 98 58 53 52 58 45 13 63]\n",
            "[[7 7 7 7]\n",
            " [7 7 7 7]\n",
            " [7 7 7 7]\n",
            " [7 7 7 7]]\n",
            "[3.14 3.14 3.14 3.14 3.14 3.14 3.14 3.14 3.14 3.14]\n",
            "[[1 2 3]\n",
            " [4 5 6]\n",
            " [7 8 9]]\n"
          ]
        }
      ]
    },
    {
      "cell_type": "code",
      "source": [
        "\n",
        "#ARRAY OPERATIONS\n",
        "\n",
        "#create two arrays a=[1,3,5,7,9]and b=[2,4,6,8,10] element-wise substraction\n",
        "array_a=np.array([1,3,5,7,9])\n",
        "array_b=np.array([2,4,6,8,10])\n",
        "diff_array=array_a-array_b\n",
        "print(\"Element-wise Substraction:\\n\",diff_array)\n",
        "\n",
        "#multiply array a by 3:a=[2,4,6,8]\n",
        "array_a=np.array([2,4,6,8])\n",
        "array_a=array_a*3\n",
        "print(\"Element-wise multiplication:\\n\",array_a)\n",
        "\n",
        "#divide a by 2: a=[10,20,30,40]\n",
        "array_a=np.array([10,20,30,40])\n",
        "array_a=array_a/2\n",
        "print(\"Element-wise Divide:\\n\",array_a)\n",
        "\n",
        "#element-wise modulus of two arrays:a=[5,10,15],b=[2,3,4]\n",
        "array_a=np.array([5,10,15])\n",
        "array_b=np.array([2,3,4])\n",
        "modulus_array=np.mod(array_a,array_b)\n",
        "print(\"Element-wise modulus:\\n\",modulus_array)\n",
        "\n",
        "#create two arrays:a=[1,2,3],b=[4,5,6] compute the dot product\n",
        "array_a=([1,2,3])\n",
        "array_b=([4,5,6])\n",
        "dot_product_result=np.dot(array_a,array_b)\n",
        "print(\"Dot Product:\\n\",dot_product_result)\n"
      ],
      "metadata": {
        "colab": {
          "base_uri": "https://localhost:8080/"
        },
        "id": "VBneZb7x0jHg",
        "outputId": "0ed01bf9-281b-4651-9f01-22769966847e"
      },
      "execution_count": 44,
      "outputs": [
        {
          "output_type": "stream",
          "name": "stdout",
          "text": [
            "Element-wise Substraction:\n",
            " [-1 -1 -1 -1 -1]\n",
            "Element-wise multiplication:\n",
            " [ 6 12 18 24]\n",
            "Element-wise Divide:\n",
            " [ 5. 10. 15. 20.]\n",
            "Element-wise modulus:\n",
            " [1 1 3]\n",
            "Dot Product:\n",
            " 32\n"
          ]
        }
      ]
    },
    {
      "cell_type": "code",
      "source": [
        "#Matrix MULTIPLICATION\n",
        "import numpy as np\n",
        "#create two matrices:a=[[2,3],[4,5]] b=[[1,0],[0,1]] perform matrix multiplication\n",
        "matrix_a=([[2,3],[4,5]])\n",
        "matrix_b=([[1,0],[0,1]])\n",
        "result_matrix=np.dot(matrix_a,matrix_b)\n",
        "print(\"Result matrix:\\n\",result_matrix)\n",
        "\n",
        "#multiply a 3*3 matrix with 3*1 vector\n",
        "matrix_a=([[1,2,3],[4,5,6],[7,8,9]])\n",
        "vector_B=([[10],[20],[30]])\n",
        "result_vector=np.dot(matrix_a,vector_B)\n",
        "print(\"Result matrix:\\n\",result_vector)\n",
        "\n",
        "#create a 4*4 identity matrix and multiply it by a 4*4 matrix filled with random integers\n",
        "identity_matrix=np.eye(4)\n",
        "random_matrix=np.random.randint(1,10,(4,4))\n",
        "result_matrix=np.dot(identity_matrix,random_matrix)\n",
        "print(\"Identity matrix:\\n\",identity_matrix)\n",
        "print(\"Random matrix:\\n\",random_matrix)\n",
        "print(\"Result matrix:\\n\",result_matrix)\n",
        "\n",
        "#matrices a=[[1,2,3].[4,5,6],[7,8,9]] and b=[[9,8,7],[6,5,4],[3,2,1]] compute matrix multiplication\n",
        "matrix_a=([[1,2,3],[4,5,6],[7,8,9]])\n",
        "matrix_b=([[9,8,7],[6,5,4],[3,2,1]])\n",
        "result_matrix=np.dot(matrix_a,matrix_b)\n",
        "print(\"Result Matrix:\\n\",result_matrix)\n",
        "\n",
        "#create a 2*3 matrix and 3*2 matrix perform matrix multiplication\n",
        "matrix_a=([[1,2,3],[4,5,6]])\n",
        "matrix_b=([[7,8],[9,10],[11,12]])\n",
        "result_matrix=np.dot(matrix_a,matrix_b)\n",
        "print(\"Result Matrix:\\n\",result_matrix)\n"
      ],
      "metadata": {
        "colab": {
          "base_uri": "https://localhost:8080/"
        },
        "id": "SSs7W2uwCsZT",
        "outputId": "0b2eed20-2fd4-4d48-e1bb-292530eceded"
      },
      "execution_count": 43,
      "outputs": [
        {
          "output_type": "stream",
          "name": "stdout",
          "text": [
            "Result matrix:\n",
            " [[2 3]\n",
            " [4 5]]\n",
            "Result matrix:\n",
            " [[140]\n",
            " [320]\n",
            " [500]]\n",
            "Identity matrix:\n",
            " [[1. 0. 0. 0.]\n",
            " [0. 1. 0. 0.]\n",
            " [0. 0. 1. 0.]\n",
            " [0. 0. 0. 1.]]\n",
            "Random matrix:\n",
            " [[9 9 9 7]\n",
            " [9 8 5 1]\n",
            " [3 6 3 4]\n",
            " [8 4 9 4]]\n",
            "Result matrix:\n",
            " [[9. 9. 9. 7.]\n",
            " [9. 8. 5. 1.]\n",
            " [3. 6. 3. 4.]\n",
            " [8. 4. 9. 4.]]\n",
            "Result Matrix:\n",
            " [[ 30  24  18]\n",
            " [ 84  69  54]\n",
            " [138 114  90]]\n",
            "Result Matrix:\n",
            " [[ 58  64]\n",
            " [139 154]]\n"
          ]
        }
      ]
    },
    {
      "cell_type": "code",
      "source": [
        "#BROADCASTING\n",
        "\n",
        "#create a 1D array :a=[10,20,30] sub scalar value 5 using broadcasting\n",
        "array_a=np.array([10,20,30])\n",
        "scalar=5\n",
        "broadcasted_array=array_a-scalar\n",
        "print(\"Broadcasted Array:\\n\",broadcasted_array)\n",
        "\n",
        "#create a 3*3 array and a 3*1 array add the using broadcasting\n",
        "array_a=np.array([[1,2,3],[4,5,6],[7,8,9]])\n",
        "array_b=np.array([[10],[20],[30]])\n",
        "broadcasted_array=array_a+array_b\n",
        "print(\"Broadcasted Array:\\n\",broadcasted_array)\n",
        "\n",
        "#divide a 4*4 array by a scalar value,2 using broadcasting\n",
        "array_a=np.array([[1,2,3,4],[5,6,7,8],[9,10,11,12],[13,14,15,16]])\n",
        "scalar=2\n",
        "broadcasted_array=array_a/2\n",
        "print(\"Broadcasted Array:\\n\",broadcasted_array)\n",
        "\n",
        "#create a 3*3 array and add 3 to each element using broadcasting\n",
        "array_a=np.array([[1,2,3],[4,5,6],[7,8,9]])\n",
        "scalar=3\n",
        "broadcasted_array=array_a+scalar\n",
        "print(\"Broadcasted Array:\\n\",broadcasted_array)\n",
        "\n",
        "#multiply a 1D array of shape(5,) by a 2D array of shape(5,5)using broadcasting\n",
        "array_a=np.array([1,2,3,4,5])\n",
        "array_b=np.array([[1,2,3,4,5],[6,7,8,9,10],[11,12,13,14,15],[16,17,18,19,20],[21,22,23,24,25]])\n",
        "broadcasted_array=array_a[:,np.newaxis]*array_b\n",
        "print(\"Broadcasted Array:\\n\",broadcasted_array)"
      ],
      "metadata": {
        "colab": {
          "base_uri": "https://localhost:8080/"
        },
        "id": "Q--uRjw6i2b-",
        "outputId": "c4f3c6cd-5558-41b2-c44d-f28be1c7ed85"
      },
      "execution_count": 45,
      "outputs": [
        {
          "output_type": "stream",
          "name": "stdout",
          "text": [
            "Broadcasted Array:\n",
            " [ 5 15 25]\n",
            "Broadcasted Array:\n",
            " [[11 12 13]\n",
            " [24 25 26]\n",
            " [37 38 39]]\n",
            "Broadcasted Array:\n",
            " [[0.5 1.  1.5 2. ]\n",
            " [2.5 3.  3.5 4. ]\n",
            " [4.5 5.  5.5 6. ]\n",
            " [6.5 7.  7.5 8. ]]\n",
            "Broadcasted Array:\n",
            " [[ 4  5  6]\n",
            " [ 7  8  9]\n",
            " [10 11 12]]\n",
            "Broadcasted Array:\n",
            " [[  1   2   3   4   5]\n",
            " [ 12  14  16  18  20]\n",
            " [ 33  36  39  42  45]\n",
            " [ 64  68  72  76  80]\n",
            " [105 110 115 120 125]]\n"
          ]
        }
      ]
    },
    {
      "cell_type": "code",
      "source": [
        "#STATISCAL OPERATIONS\n",
        "\n",
        "#calculate the median of the array:a=[1,2,3,4,5,6,7,8,9,10]\n",
        "data=np.array([1,2,3,4,5,6,7,8,9,10])\n",
        "median_value=np.median(data)\n",
        "print(\"Median:\\n\",median_value)\n",
        "\n",
        "from scipy import stats\n",
        "#calculate the mode of the array:a=[1,2,2,3,4,4,4,5,6]\n",
        "data=np.array([1,2,2,3,4,4,4,5,6])\n",
        "mode_value=stats.mode(data)\n",
        "print(mode_value)\n",
        "\n",
        "#calculate the range of array:a=[10,20,30,40,50]\n",
        "data=np.array([10,20,30,40,50])\n",
        "range_value=np.ptp(data)\n",
        "print(\"Range:\\n\",range_value)\n",
        "\n",
        "#calculate the 25th percentile of the array:a=[1,2,3,4,5,6,7,8,9,10]\n",
        "data=np.array([1,2,3,4,5,6,7,8,9,10])\n",
        "percentile_value=np.percentile(data,25)\n",
        "print(\"25th Percentile:\\n\",percentile_value)\n",
        "\n",
        "#calculate the correlation coefficient b/w two arrays:a=[1,2,3,4,5] and b=[2,4,6,8,10]\n",
        "data_a=np.array([1,2,3,4,5])\n",
        "data_b=np.array([2,4,6,8,10])\n",
        "coeff_value=np.corrcoef(data_a,data_b)\n",
        "print(\"Correlation Coefficient:\\n\",coeff_value)"
      ],
      "metadata": {
        "colab": {
          "base_uri": "https://localhost:8080/"
        },
        "id": "61VpnZZNplPd",
        "outputId": "f732c790-9da1-4e70-893b-b1c9bccfcf30"
      },
      "execution_count": 46,
      "outputs": [
        {
          "output_type": "stream",
          "name": "stdout",
          "text": [
            "Median:\n",
            " 5.5\n",
            "ModeResult(mode=4, count=3)\n",
            "Range:\n",
            " 40\n",
            "25th Percentile:\n",
            " 3.25\n",
            "Correlation Coefficient:\n",
            " [[1. 1.]\n",
            " [1. 1.]]\n"
          ]
        }
      ]
    },
    {
      "cell_type": "code",
      "source": [
        "#RESHAPING ARRAYS\n",
        "import numpy as np\n",
        "#reshape a 1D array of 12 elements to a 3*4 array\n",
        "array=np.array([1,2,3,4,5,6,7,8,9,10,11,12])\n",
        "reshaped_array=array.reshape(3,4)\n",
        "print(\"Reshaped Array:\\n\",reshaped_array)\n",
        "\n",
        "#reshape a 2D array of shape(6,2) to (3,4)\n",
        "array=np.array([[1,2],[3,4],[5,6],[7,8],[9,10],[11,12]])\n",
        "reshaped_array=array.reshape(3,4)\n",
        "print(\"Reshape Array:\\n\",reshaped_array)\n",
        "\n",
        "#create a 4*4 array and flatten it\n",
        "array_a=np.array([[1,2,3,4],[5,6,7,8],[9,10,11,12],[13,14,15,16]])\n",
        "flattened_array=array_a.flatten()\n",
        "print(\"Oringinal array:\\n\",array_a)\n",
        "print(\"Flattened Array:\\n\",flattened_array)\n",
        "\n",
        "#reshape a 3D array of shape (2,3,4) to (4,3,2)\n",
        "array=np.arange(24).reshape(2,3,4)\n",
        "reshaped_array=array.reshape(4,3,2)\n",
        "print(\"Original Array:\\n\",array)\n",
        "print(\"Reshaped Array:\\n\",reshaped_array)\n",
        "\n",
        "#reshape a 1D array to a 2D array with 1 row and many columns\n",
        "array=np.array([1,2,3,4,5,6])\n",
        "reshaped_array=array.reshape(1,-1)\n",
        "print(\"Original Array:\\n\",reshaped_array)\n"
      ],
      "metadata": {
        "colab": {
          "base_uri": "https://localhost:8080/"
        },
        "id": "xlQxaNoXaMYb",
        "outputId": "bc85d63a-cf8f-4b5b-b3fc-d3f6673a72aa"
      },
      "execution_count": null,
      "outputs": [
        {
          "output_type": "stream",
          "name": "stdout",
          "text": [
            "Reshaped Array:\n",
            " [[ 1  2  3  4]\n",
            " [ 5  6  7  8]\n",
            " [ 9 10 11 12]]\n",
            "Reshape Array:\n",
            " [[ 1  2  3  4]\n",
            " [ 5  6  7  8]\n",
            " [ 9 10 11 12]]\n",
            "Oringinal array:\n",
            " [[ 1  2  3  4]\n",
            " [ 5  6  7  8]\n",
            " [ 9 10 11 12]\n",
            " [13 14 15 16]]\n",
            "Flattened Array:\n",
            " [ 1  2  3  4  5  6  7  8  9 10 11 12 13 14 15 16]\n",
            "Original Array:\n",
            " [[[ 0  1  2  3]\n",
            "  [ 4  5  6  7]\n",
            "  [ 8  9 10 11]]\n",
            "\n",
            " [[12 13 14 15]\n",
            "  [16 17 18 19]\n",
            "  [20 21 22 23]]]\n",
            "Reshaped Array:\n",
            " [[[ 0  1]\n",
            "  [ 2  3]\n",
            "  [ 4  5]]\n",
            "\n",
            " [[ 6  7]\n",
            "  [ 8  9]\n",
            "  [10 11]]\n",
            "\n",
            " [[12 13]\n",
            "  [14 15]\n",
            "  [16 17]]\n",
            "\n",
            " [[18 19]\n",
            "  [20 21]\n",
            "  [22 23]]]\n",
            "Original Array:\n",
            " [[1 2 3 4 5 6]]\n"
          ]
        }
      ]
    },
    {
      "cell_type": "code",
      "source": [
        "#Element-wise Operation\n",
        "import numpy as np\n",
        "#create two arrays:a=[1,3,5] and b=[2,4,6] perform element-wise division\n",
        "array_a=np.array([1,3,5])\n",
        "array_b=np.array([2,4,6])\n",
        "div_result=array_a/array_b\n",
        "print(\"Element-wise Division:\",div_result)\n",
        "\n",
        "#create two arrays:a=[2,4,6] and b=[1,3,5] perform element-wise modulus\n",
        "array_a=np.array([2,4,6])\n",
        "array_b=np.array([1,3,5])\n",
        "mod_result=np.mod(array_a,array_b)\n",
        "print(\"Element-wise Modulus:\",mod_result)\n",
        "\n",
        "#add 10 to each element in the array:a=[1,2,3,4,5]\n",
        "array_a=np.array([1,2,3,4,5])\n",
        "add_result=array_a+10\n",
        "print(\"Addition:\\n\",add_result)\n",
        "\n",
        "#subtract 5 from each element in the array:b=[10,20,30,40,50]\n",
        "array_b=np.array([10,20,30,40,50])\n",
        "diff_result=array_b-5\n",
        "print(\"Subtraction:\\n\",diff_result)\n",
        "\n",
        "#square each element in the array:c=[1,2,3,4,5]\n",
        "array_c=np.array([1,2,3,4,5])\n",
        "square_result=array_c**2\n",
        "print(\"Square:\\n\",square_result)"
      ],
      "metadata": {
        "colab": {
          "base_uri": "https://localhost:8080/"
        },
        "id": "rDc9JvdHPAGT",
        "outputId": "0cdb3d32-1786-4935-e4c1-dde7f7e690b9"
      },
      "execution_count": 48,
      "outputs": [
        {
          "output_type": "stream",
          "name": "stdout",
          "text": [
            "Element-wise Division: [0.5        0.75       0.83333333]\n",
            "Element-wise Modulus: [0 1 1]\n",
            "Addition:\n",
            " [11 12 13 14 15]\n",
            "Subtraction:\n",
            " [ 5 15 25 35 45]\n",
            "Square:\n",
            " [ 1  4  9 16 25]\n"
          ]
        }
      ]
    },
    {
      "cell_type": "code",
      "source": [
        "#SLICING AND INDEXING\n",
        "\n",
        "#create a 3D array:array_3D=[[[1,2,3],[4,5,6]],[[7,8,9],[10,11,12]]] access the element at[1,1,1]\n",
        "array_3D=np.array([[[1,2,3],[4,5,6]],[[7,8,9],[10,11,12]]])\n",
        "element=array_3D[1,1,1]\n",
        "print(\"Element at [1,1,1]:\",element)\n",
        "\n",
        "#slice the first layer of a 3D array:array_3D=[[[1,2,3],[4,5,6]],[[7,8,9],[10,11,12]]]\n",
        "array_3D=np.array([[[1,2,3],[4,5,6]],[[7,8,9],[10,11,12]]])\n",
        "first_layer=array_3D[0]\n",
        "print(\"First Layer:\\n\",first_layer)\n",
        "\n",
        "#access all elements in the last row of the array:array_2D=[[10,20,30],[40,50,60],[70,80,90]]\n",
        "array_2D=np.array([[10,20,30],[40,50,60],[70,80,90]])\n",
        "element=array_2D[-1]\n",
        "print(\"Last Row[-1]:\\n\",element)\n",
        "\n",
        "#access all elements in the first column of the array:array_2D=[[10,20,30],[40,50,60],[70,80,90]]\n",
        "array_2D=np.array([[10,20,30],[40,50,60],[70,80,90]])\n",
        "element=array_2D[:,0]\n",
        "print(\"First Column[:,0]:\\n\",element)\n",
        "\n",
        "#slice the last two rows and columns of the array:array_2D=[[10,20,30],[40,50,60],[70,80,90]]\n",
        "array_2D=np.array([[10,20,30],[40,50,60],[70,80,90]])\n",
        "element=array_2D[-2:,-2:]\n",
        "print(\"Last Row and Colums:\\n\",element)"
      ],
      "metadata": {
        "colab": {
          "base_uri": "https://localhost:8080/"
        },
        "id": "E-_I0fmvVmbj",
        "outputId": "12d86127-6130-4b6b-e138-a8fda72bf2a8"
      },
      "execution_count": 51,
      "outputs": [
        {
          "output_type": "stream",
          "name": "stdout",
          "text": [
            "Element at [1,1,1]: 11\n",
            "First Layer:\n",
            " [[1 2 3]\n",
            " [4 5 6]]\n",
            "Last Row[-1]:\n",
            " [70 80 90]\n",
            "First Column[:,0]:\n",
            " [10 40 70]\n",
            "Last Row and Colums:\n",
            " [[50 60]\n",
            " [80 90]]\n"
          ]
        }
      ]
    },
    {
      "cell_type": "code",
      "source": [
        "#CREATING RANDOM ARRAYS\n",
        "\n",
        "#generate a random array of 20 elements with values b/w 0&1\n",
        "array_random_int=np.random.randint(0,1,20)\n",
        "print(\"Random Array:\\n\",array_random_int)\n",
        "\n",
        "#create a 4*4 array with random integers b/w 10&20\n",
        "array_random_int=np.random.randint(10,20,(4,4))\n",
        "print(\"Random Array:\\n\",array_random_int)\n",
        "\n",
        "#create a 3*3 array with random floats b/w -1&1\n",
        "lower_bound=-1\n",
        "upper_bound=1\n",
        "array_random=np.random.rand(3,3)*(upper_bound-lower_bound)+lower_bound\n",
        "print(\"Random Array:\\n\",array_random)\n",
        "\n",
        "#generate an array of 15 random integers b/w 100&200\n",
        "array_random_int=np.random.randint(100,200,15)\n",
        "print(\"Random Array:\\n\",array_random_int)\n",
        "\n",
        "#create a 5*5 array with random floats b/w 0&10\n",
        "lower_bound=0\n",
        "upper_bound=10\n",
        "array_random=np.random.rand(5,5)*(upper_bound-lower_bound)+lower_bound\n",
        "print(\"Random Array:\",array_random)"
      ],
      "metadata": {
        "colab": {
          "base_uri": "https://localhost:8080/"
        },
        "id": "I0nOGEpWmpq5",
        "outputId": "abd0e65f-2af1-4309-c6f0-286ae77d3401"
      },
      "execution_count": 32,
      "outputs": [
        {
          "output_type": "stream",
          "name": "stdout",
          "text": [
            "Random Array: [0 0 0 0 0 0 0 0 0 0 0 0 0 0 0 0 0 0 0 0]\n",
            "Random Array: [[16 14 11 15]\n",
            " [13 18 18 15]\n",
            " [14 14 18 15]\n",
            " [14 11 15 19]]\n",
            "Random Array: [[-0.00588055 -0.13928383 -0.86258566]\n",
            " [-0.37546009  0.55564411 -0.61814637]\n",
            " [ 0.44278096 -0.14398343  0.0415962 ]]\n",
            "Random Array: [183 196 119 134 197 121 140 111 132 133 116 147 136 123 190]\n",
            "Random Array: [[2.95352616 9.83764288 7.24054657 8.87087037 9.34144985]\n",
            " [6.84729743 2.69853515 4.96133635 1.84011017 4.32912621]\n",
            " [2.72610831 2.86039161 5.00178766 9.88827859 9.77874488]\n",
            " [2.24982497 5.71781086 0.73554476 3.75525462 8.92887758]\n",
            " [0.43219563 6.1667838  2.97880187 4.0131764  4.79675305]]\n"
          ]
        }
      ]
    },
    {
      "cell_type": "code",
      "source": [
        "#STACKING AND CONCATRNATING ARRAYS\n",
        "\n",
        "#vertically stack two arrays:a=[[1,2],[3,4]] and b=[[5,6],[7,8]]\n",
        "array_a=([[1,2],[3,4]])\n",
        "array_b=([[5,6],[7,8]])\n",
        "v_stack=np.vstack([array_a,array_b])\n",
        "print(\"Vertically stack:\\n\",v_stack)\n",
        "\n",
        "#horizontally stack two arrays\n",
        "array_a=([[1,2],[3,4]])\n",
        "array_b=([[5,6],[7,8]])\n",
        "h_stack=np.hstack([array_a,array_b])\n",
        "print(\"Horizontrally Stack:\\n\",h_stack)\n",
        "\n",
        "#concatenate two 1D arrays\n",
        "array_a=np.array([1,2,3])\n",
        "array_b=np.array([4,5,6])\n",
        "concatenated_array=np.concatenate((array_a,array_b))\n",
        "print(\"Concatenated Array:\\n\",concatenated_array)\n",
        "\n",
        "#concatenated two 3*3 arrays along rows\n",
        "array_a=np.array([[1,2,3],[4,5,6],[7,8,9]])\n",
        "array_b=np.array([[10,11,12],[13,14,15],[16,17,18]])\n",
        "concatenated_array=np.concatenate((array_a,array_b),axis=0)\n",
        "print(\"Concatenated Arrays:\\n\",concatenated_array)\n",
        "\n",
        "\n",
        "#concatenated two 3*3 arrays along columns\n",
        "array_a=np.array([[1,2,3],[4,5,6],[7,8,9]])\n",
        "array_b=np.array([[10,11,12],[13,14,15],[16,17,18]])\n",
        "concatenated_array=np.concatenate((array_a,array_b),axis=1)\n",
        "print(\"Concatenated Arrays:\\n\",concatenated_array)\n"
      ],
      "metadata": {
        "colab": {
          "base_uri": "https://localhost:8080/"
        },
        "id": "uWcQhu6h4ZEB",
        "outputId": "a351eb8b-0fdb-487f-bffb-a8b544e95fa1"
      },
      "execution_count": 40,
      "outputs": [
        {
          "output_type": "stream",
          "name": "stdout",
          "text": [
            "Vertically stack:\n",
            " [[1 2]\n",
            " [3 4]\n",
            " [5 6]\n",
            " [7 8]]\n",
            "Horizontrally Stack:\n",
            " [[1 2 5 6]\n",
            " [3 4 7 8]]\n",
            "Concatenated Array:\n",
            " [1 2 3 4 5 6]\n",
            "Concatenated Arrays:\n",
            " [[ 1  2  3]\n",
            " [ 4  5  6]\n",
            " [ 7  8  9]\n",
            " [10 11 12]\n",
            " [13 14 15]\n",
            " [16 17 18]]\n",
            "Concatenated Arrays:\n",
            " [[ 1  2  3 10 11 12]\n",
            " [ 4  5  6 13 14 15]\n",
            " [ 7  8  9 16 17 18]]\n"
          ]
        }
      ]
    }
  ]
}